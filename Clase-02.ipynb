{
 "cells": [
  {
   "cell_type": "markdown",
   "metadata": {},
   "source": [
    "## Clase 2"
   ]
  },
  {
   "cell_type": "code",
   "execution_count": 7,
   "metadata": {},
   "outputs": [
    {
     "name": "stdout",
     "output_type": "stream",
     "text": [
      "Ambos son iguales\n"
     ]
    }
   ],
   "source": [
    "Numero1 = int(input(\"Dame el primero numero: \"))\n",
    "Numero2 = int(input(\"Dame el segundo numero: \"))\n",
    "\n",
    "if Numero1 > Numero2:\n",
    "        print(f'El numero más grande es {Numero1}')\n",
    "elif Numero2 > Numero1:\n",
    "        print(f'El numero más grande es el numero {Numero2}')\n",
    "else: \n",
    "    print(\"Ambos son iguales\")\n"
   ]
  },
  {
   "cell_type": "markdown",
   "metadata": {},
   "source": [
    "## Listas"
   ]
  },
  {
   "cell_type": "code",
   "execution_count": 8,
   "metadata": {},
   "outputs": [
    {
     "name": "stdout",
     "output_type": "stream",
     "text": [
      "['Manzana', 'Platanao', 'Pera']\n",
      "Manzana\n"
     ]
    }
   ],
   "source": [
    "mis_Frutas = [\"Manzana\", \"Platanao\", \"Pera\"]\n",
    "print(mis_Frutas)\n",
    "print(mis_Frutas[0])"
   ]
  },
  {
   "cell_type": "code",
   "execution_count": 9,
   "metadata": {},
   "outputs": [
    {
     "name": "stdout",
     "output_type": "stream",
     "text": [
      "El\n",
      "castillo\n",
      "vagabundo\n"
     ]
    }
   ],
   "source": [
    "palabra = \"El castillo vagabundo\"\n",
    "print(palabra[0:2])\n",
    "print(palabra[3:11])\n",
    "print(palabra[12:21])"
   ]
  },
  {
   "cell_type": "code",
   "execution_count": 10,
   "metadata": {},
   "outputs": [
    {
     "name": "stdout",
     "output_type": "stream",
     "text": [
      "[10, 1, 5, 4, 14, 6, 11, 5, 20, 10]\n"
     ]
    }
   ],
   "source": [
    "mis_numeros = [10,1,5,4,14,6,11,5,20,10]\n",
    "print(mis_numeros)"
   ]
  },
  {
   "cell_type": "code",
   "execution_count": 11,
   "metadata": {},
   "outputs": [
    {
     "name": "stdout",
     "output_type": "stream",
     "text": [
      "[1, 4, 5, 5, 6, 10, 10, 11, 14, 20]\n"
     ]
    }
   ],
   "source": [
    "mis_numeros.sort()\n",
    "print(mis_numeros)"
   ]
  },
  {
   "cell_type": "code",
   "execution_count": 12,
   "metadata": {},
   "outputs": [
    {
     "name": "stdout",
     "output_type": "stream",
     "text": [
      "[20, 14, 11, 10, 10, 6, 5, 5, 4, 1]\n"
     ]
    }
   ],
   "source": [
    "mis_numeros.sort(reverse=True)\n",
    "print(mis_numeros)"
   ]
  },
  {
   "cell_type": "code",
   "execution_count": 13,
   "metadata": {},
   "outputs": [
    {
     "data": {
      "text/plain": [
       "2"
      ]
     },
     "execution_count": 13,
     "metadata": {},
     "output_type": "execute_result"
    }
   ],
   "source": [
    "mis_numeros.count(5)"
   ]
  },
  {
   "cell_type": "code",
   "execution_count": 14,
   "metadata": {},
   "outputs": [
    {
     "data": {
      "text/plain": [
       "86"
      ]
     },
     "execution_count": 14,
     "metadata": {},
     "output_type": "execute_result"
    }
   ],
   "source": [
    "sum(mis_numeros)"
   ]
  },
  {
   "cell_type": "code",
   "execution_count": 15,
   "metadata": {},
   "outputs": [
    {
     "name": "stdout",
     "output_type": "stream",
     "text": [
      "8.6\n"
     ]
    }
   ],
   "source": [
    "Promedio = sum(mis_numeros)/10\n",
    "print(Promedio)"
   ]
  },
  {
   "cell_type": "code",
   "execution_count": 16,
   "metadata": {},
   "outputs": [
    {
     "data": {
      "text/plain": [
       "10"
      ]
     },
     "execution_count": 16,
     "metadata": {},
     "output_type": "execute_result"
    }
   ],
   "source": [
    "len(mis_numeros)"
   ]
  },
  {
   "cell_type": "code",
   "execution_count": 17,
   "metadata": {},
   "outputs": [
    {
     "name": "stdout",
     "output_type": "stream",
     "text": [
      "8.6\n"
     ]
    }
   ],
   "source": [
    "Promedio = sum(mis_numeros)/ len(mis_numeros)\n",
    "print(Promedio)"
   ]
  }
 ],
 "metadata": {
  "kernelspec": {
   "display_name": "Python 3.9.7 64-bit",
   "language": "python",
   "name": "python3"
  },
  "language_info": {
   "codemirror_mode": {
    "name": "ipython",
    "version": 3
   },
   "file_extension": ".py",
   "mimetype": "text/x-python",
   "name": "python",
   "nbconvert_exporter": "python",
   "pygments_lexer": "ipython3",
   "version": "3.9.7"
  },
  "orig_nbformat": 4,
  "vscode": {
   "interpreter": {
    "hash": "772f66837d71377a9e91bdceabcb0d3cb18014278592638634865ba084916021"
   }
  }
 },
 "nbformat": 4,
 "nbformat_minor": 2
}
